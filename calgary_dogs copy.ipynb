{
 "cells": [
  {
   "cell_type": "code",
   "execution_count": 32,
   "metadata": {},
   "outputs": [],
   "source": [
    "import numpy as np\n",
    "import pandas as pd"
   ]
  },
  {
   "cell_type": "code",
   "execution_count": 33,
   "metadata": {},
   "outputs": [
    {
     "data": {
      "text/html": [
       "<div>\n",
       "<style scoped>\n",
       "    .dataframe tbody tr th:only-of-type {\n",
       "        vertical-align: middle;\n",
       "    }\n",
       "\n",
       "    .dataframe tbody tr th {\n",
       "        vertical-align: top;\n",
       "    }\n",
       "\n",
       "    .dataframe thead th {\n",
       "        text-align: right;\n",
       "    }\n",
       "</style>\n",
       "<table border=\"1\" class=\"dataframe\">\n",
       "  <thead>\n",
       "    <tr style=\"text-align: right;\">\n",
       "      <th></th>\n",
       "      <th></th>\n",
       "      <th></th>\n",
       "      <th>Total</th>\n",
       "    </tr>\n",
       "    <tr>\n",
       "      <th>Year</th>\n",
       "      <th>Month</th>\n",
       "      <th>Breed</th>\n",
       "      <th></th>\n",
       "    </tr>\n",
       "  </thead>\n",
       "  <tbody>\n",
       "    <tr>\n",
       "      <th rowspan=\"5\" valign=\"top\">2021</th>\n",
       "      <th>April</th>\n",
       "      <th>AIREDALE TERR</th>\n",
       "      <td>145</td>\n",
       "    </tr>\n",
       "    <tr>\n",
       "      <th>August</th>\n",
       "      <th>AIREDALE TERR</th>\n",
       "      <td>144</td>\n",
       "    </tr>\n",
       "    <tr>\n",
       "      <th>December</th>\n",
       "      <th>AIREDALE TERR</th>\n",
       "      <td>142</td>\n",
       "    </tr>\n",
       "    <tr>\n",
       "      <th>July</th>\n",
       "      <th>AIREDALE TERR</th>\n",
       "      <td>142</td>\n",
       "    </tr>\n",
       "    <tr>\n",
       "      <th>June</th>\n",
       "      <th>AIREDALE TERR</th>\n",
       "      <td>143</td>\n",
       "    </tr>\n",
       "  </tbody>\n",
       "</table>\n",
       "</div>"
      ],
      "text/plain": [
       "                             Total\n",
       "Year Month    Breed               \n",
       "2021 April    AIREDALE TERR    145\n",
       "     August   AIREDALE TERR    144\n",
       "     December AIREDALE TERR    142\n",
       "     July     AIREDALE TERR    142\n",
       "     June     AIREDALE TERR    143"
      ]
     },
     "execution_count": 33,
     "metadata": {},
     "output_type": "execute_result"
    }
   ],
   "source": [
    "def DataFrame_creation (dataframe):\n",
    "    df = pd.read_excel(dataframe)\n",
    "    df.set_index(['Year', 'Month', 'Breed'], inplace=True)\n",
    "    return df\n",
    "\n",
    "df = DataFrame_creation(\"CalgaryDogBreeds.xlsx\")\n",
    "df.head()"
   ]
  },
  {
   "cell_type": "code",
   "execution_count": 34,
   "metadata": {},
   "outputs": [],
   "source": [
    "def breed_year_top(breed, df):\n",
    "    # Top Years\n",
    "    years_on_top = []\n",
    "    \n",
    "    df = DataFrame_creation(\"CalgaryDogBreeds.xlsx\")\n",
    "\n",
    "    for value in df.index.get_level_values('Year').unique():\n",
    "        idx = pd.IndexSlice\n",
    "        year_level = df.loc[idx[value],:]\n",
    "        if breed in year_level.index.get_level_values('Breed'):\n",
    "            years_on_top.append(value)\n",
    "\n",
    "    return years_on_top\n",
    "\n",
    "\n",
    "\n"
   ]
  },
  {
   "cell_type": "code",
   "execution_count": 35,
   "metadata": {},
   "outputs": [],
   "source": [
    "def breed_total_reg(breed, df):\n",
    "     idx = pd.IndexSlice\n",
    "\n",
    "     df = df.loc[idx[:, :, breed], :]\n",
    "\n",
    "     sum_of_total = np.nansum(df['Total'])\n",
    "\n",
    "     return sum_of_total"
   ]
  },
  {
   "cell_type": "code",
   "execution_count": 45,
   "metadata": {},
   "outputs": [],
   "source": [
    "def breed_percentage_years(breed, df):\n",
    "    idx = pd.IndexSlice\n",
    "    percentage_per_year = []\n",
    "    df_breed = df.loc[idx[:, :, breed], :] #get the years the breed was shown in and display the percentage for those\n",
    "    for value in df.index.get_level_values('Year').unique():\n",
    "        year_df = df.loc[idx[value], :]\n",
    "        year_sum = np.nansum(year_df['Total'])\n",
    "\n",
    "        if value in df_breed.index.get_level_values('Year').unique():\n",
    "\n",
    "            breed_df = df.loc[idx[value, :, breed], :]\n",
    "            breed_sum = np.nansum(breed_df['Total'])\n",
    "\n",
    "            percentage_for_breed = breed_sum / year_sum\n",
    "\n",
    "            percentage_per_year.append(percentage_for_breed)\n",
    "    \n",
    "    return percentage_per_year\n",
    "\n"
   ]
  },
  {
   "cell_type": "code",
   "execution_count": 37,
   "metadata": {},
   "outputs": [],
   "source": [
    "def breed_percentage_all_years(breed, df):\n",
    "    idx = pd.IndexSlice\n",
    "    df_count = np.nansum(df['Total'])\n",
    "\n",
    "    breed_df = df.loc[idx[:, :, breed], :]\n",
    "    breed_count = np.nansum(breed_df['Total'])\n",
    "\n",
    "    percentage_for_breed = breed_count / df_count\n",
    "\n",
    "    return percentage_for_breed"
   ]
  },
  {
   "cell_type": "code",
   "execution_count": 38,
   "metadata": {},
   "outputs": [],
   "source": [
    "def breed_popular_months(breed, df):\n",
    "    idx = pd.IndexSlice\n",
    "\n",
    "    df = df.loc[idx[:, :, breed], :]\n",
    "    month_counts = df.groupby(level= 'Month').count()\n",
    "    max_value_count = month_counts['Total'].max()\n",
    "    top_months = month_counts[month_counts['Total'] == max_value_count]\n",
    "    top_months = top_months.index.get_level_values('Month')\n",
    "\n",
    "    return top_months\n",
    "    "
   ]
  },
  {
   "cell_type": "code",
   "execution_count": 28,
   "metadata": {},
   "outputs": [
    {
     "data": {
      "text/plain": [
       "Index(['August', 'December', 'January', 'July', 'June', 'March', 'November',\n",
       "       'October', 'September'],\n",
       "      dtype='object', name='Month')"
      ]
     },
     "execution_count": 28,
     "metadata": {},
     "output_type": "execute_result"
    }
   ],
   "source": [
    "df = DataFrame_creation(\"CalgaryDogBreeds.xlsx\")\n",
    "breed = 'LABRADOR RETR'\n",
    "\n",
    "idx = pd.IndexSlice\n",
    "\n",
    "df = df.loc[idx[:, :, breed], :]\n",
    "month_counts = df.groupby(level= 'Month').count()\n",
    "max_value_count = month_counts['Total'].max()\n",
    "top_months = month_counts[month_counts['Total'] == max_value_count]\n",
    "top_months = top_months.index.get_level_values('Month')\n",
    "top_months"
   ]
  },
  {
   "cell_type": "code",
   "execution_count": 49,
   "metadata": {},
   "outputs": [],
   "source": [
    "def print_all_stats(df, user_input):\n",
    "    # Top years for that breed\n",
    "    breed_years = breed_year_top(user_input, df)\n",
    "    print(f\"The {user_input} was found in the top breeds for years: {', '.join(str(i) for i in breed_years)}\")\n",
    "\n",
    "    # Total registered for that breed\n",
    "    breed_total = breed_total_reg(user_input, df)\n",
    "    print(f\"There have been {breed_total} {user_input} dogs registered total.\")\n",
    "\n",
    "    # Percentage of breed in each year\n",
    "    breed_percentage = breed_percentage_years(user_input, df)\n",
    "    for i, year in enumerate(breed_years):\n",
    "        print(f\"The {user_input} was {breed_percentage[i]:0%} of top breeds in {breed_years[i]}.\")\n",
    "\n",
    "    # Percentage of breed in all years\n",
    "    breed_percentage_all = breed_percentage_all_years(user_input, df)\n",
    "    print(f\"The {user_input} was {breed_percentage_all:0%} of top breeds across all years.\")\n",
    "\n",
    "    # Popular months for that breed\n",
    "    breed_months = breed_popular_months(user_input, df)\n",
    "    print(f\"The most popular month(s) for {user_input} dogs: {', '.join(str(i) for i in breed_months)}\")"
   ]
  },
  {
   "cell_type": "code",
   "execution_count": 51,
   "metadata": {},
   "outputs": [],
   "source": [
    "def user_entry_handdler(df):\n",
    "    while True:\n",
    "        user_input = input(\"Please enter a dog breed: \")\n",
    "        user_input = user_input.upper()\n",
    "\n",
    "        try:\n",
    "            if user_input in df.index.get_level_values(\"Breed\"):\n",
    "                print_all_stats(df, user_input)\n",
    "                break\n",
    "            else:\n",
    "                raise ValueError(\"Dog breed not found in the data. Please try again.\")\n",
    "\n",
    "        except ValueError as e:\n",
    "            print(e)\n",
    "            continue"
   ]
  },
  {
   "cell_type": "code",
   "execution_count": 52,
   "metadata": {},
   "outputs": [
    {
     "name": "stdout",
     "output_type": "stream",
     "text": [
      "The LABRADOR RETR was found in the top breeds for years: 2021, 2022, 2023\n",
      "There have been 219327 LABRADOR RETR dogs registered total.\n",
      "The LABRADOR RETR was 12.140199% of top breeds in 2021.\n",
      "The LABRADOR RETR was 11.955056% of top breeds in 2022.\n",
      "The LABRADOR RETR was 12.300101% of top breeds in 2023.\n",
      "The LABRADOR RETR was 12.075423% of top breeds across all years.\n",
      "The most popular month(s) for LABRADOR RETR dogs: August, December, January, July, June, March, November, October, September\n"
     ]
    }
   ],
   "source": [
    "df = DataFrame_creation(\"CalgaryDogBreeds.xlsx\")\n",
    "user_entry_handdler(df)"
   ]
  },
  {
   "cell_type": "code",
   "execution_count": 48,
   "metadata": {},
   "outputs": [
    {
     "name": "stdout",
     "output_type": "stream",
     "text": [
      "The LABRADOR RETR was found in the top breeds for years: 2021, 2022, 2023\n",
      "There have been 219327 LABRADOR RETR dogs registered total.\n",
      "The LABRADOR RETR was 12.140199% of top breeds in 2021.\n",
      "The LABRADOR RETR was 11.955056% of top breeds in 2022.\n",
      "The LABRADOR RETR was 12.300101% of top breeds in 2023.\n",
      "The LABRADOR RETR was 12.075423% of top breeds across all years.\n",
      "The most popular month(s) for LABRADOR RETR dogs: August, December, January, July, June, March, November, October, September\n"
     ]
    }
   ],
   "source": [
    "df = DataFrame_creation(\"CalgaryDogBreeds.xlsx\")\n",
    "\n",
    "while True:\n",
    "    user_input = input(\"Please enter a dog breed: \")\n",
    "    user_input = user_input.upper()\n",
    "\n",
    "    try:\n",
    "        if user_input in df.index.get_level_values(\"Breed\"):\n",
    "            # Top years for that breed\n",
    "            breed_years = breed_year_top(user_input, df)\n",
    "            print(f\"The {user_input} was found in the top breeds for years: {', '.join(str(i) for i in breed_years)}\")\n",
    "\n",
    "            # Total registered for that breed\n",
    "            breed_total = breed_total_reg(user_input, df)\n",
    "            print(f\"There have been {breed_total} {user_input} dogs registered total.\")\n",
    "\n",
    "            # Percentage of breed in each year\n",
    "            breed_percentage = breed_percentage_years(user_input, df)\n",
    "            for i, year in enumerate(breed_years):\n",
    "                print(f\"The {user_input} was {breed_percentage[i]:0%} of top breeds in {breed_years[i]}.\")\n",
    "\n",
    "            # Percentage of breed in all years\n",
    "            breed_percentage_all = breed_percentage_all_years(user_input, df)\n",
    "            print(f\"The {user_input} was {breed_percentage_all:0%} of top breeds across all years.\")\n",
    "\n",
    "            # Popular months for that breed\n",
    "            breed_months = breed_popular_months(user_input, df)\n",
    "            print(f\"The most popular month(s) for {user_input} dogs: {', '.join(str(i) for i in breed_months)}\")\n",
    "            break\n",
    "        else:\n",
    "            raise ValueError(\"Dog breed not found in the data. Please try again.\")\n",
    "\n",
    "    except ValueError as e:\n",
    "        print(e)\n",
    "        continue"
   ]
  },
  {
   "cell_type": "markdown",
   "metadata": {},
   "source": []
  }
 ],
 "metadata": {
  "kernelspec": {
   "display_name": "Python 3",
   "language": "python",
   "name": "python3"
  },
  "language_info": {
   "codemirror_mode": {
    "name": "ipython",
    "version": 3
   },
   "file_extension": ".py",
   "mimetype": "text/x-python",
   "name": "python",
   "nbconvert_exporter": "python",
   "pygments_lexer": "ipython3",
   "version": "3.9.13"
  }
 },
 "nbformat": 4,
 "nbformat_minor": 2
}
